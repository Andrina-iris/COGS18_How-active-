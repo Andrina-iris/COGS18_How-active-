{
 "cells": [
  {
   "cell_type": "markdown",
   "metadata": {},
   "source": [
    "<h1 align=\"center\">How active?</h1>"
   ]
  },
  {
   "cell_type": "markdown",
   "metadata": {},
   "source": [
    "A brief description of my project here: \n",
    "##### How active?\n",
    "\n",
    "In this code, it will grab data from the .csv file that the user imported into it. \n",
    "\n",
    "With the data and charts brought by the data, we can deduce whether the influencer's fans love the \"Active side\" or \"Inactive side\" of him/her offline. \n",
    "For example, an influencer would get the tag of \"Active side\", if the average likes gained by his posts \"Outdoor\" surpassed the ones \"Indoor\" and vice versa.\n",
    "\n",
    "\n",
    "I'm designing this code because I saw some of the influencers that I' following on Instagram love post pictures or videos that are taken \"Outdoor\", while some other's don't. \n",
    "However, there's no overt clue that \"Outdoor\" posts are more popular than \"Indoor\" ones, or on the contrary. \n",
    "\n",
    "So I think there is an individual difference on this situation and I want to make use of the python that I learn to fulfill this goal.\n",
    "\n",
    "#### data analyzing\n",
    "\n",
    "<h3 align=\"center\">========</h3>\n",
    "\n",
    "<h5 align=\"center\">Special clarification: </h5>\n",
    "\n",
    "##### The data are all collected by myself. Although it has also appeared in my COGS13's research proposal, the use of it in COGS13 is just for data collecting, not coding use. \n",
    "##### The purpose for collecting this piece of data for COGS13 is different from my concepts here in COGS18, since the TestingData I used, is just part of my COGS13 data sheet as well.\n",
    "\n",
    "<h3 align=\"center\">==============</h3>\n",
    "\n",
    "Thank you for reading my notes.\n",
    "\n",
    "Now, let's get started!"
   ]
  },
  {
   "cell_type": "markdown",
   "metadata": {},
   "source": [
    "## Project Code"
   ]
  },
  {
   "cell_type": "code",
   "execution_count": 1,
   "metadata": {},
   "outputs": [],
   "source": [
    "import numpy as np\n",
    "import pandas as pd"
   ]
  },
  {
   "cell_type": "code",
   "execution_count": 2,
   "metadata": {},
   "outputs": [],
   "source": [
    "assert np\n",
    "assert pd"
   ]
  },
  {
   "cell_type": "code",
   "execution_count": 3,
   "metadata": {},
   "outputs": [
    {
     "name": "stdout",
     "output_type": "stream",
     "text": [
      "Please upload your file and type in it here to check your DataFrame sheet first!\n",
      "\n",
      "COGS18_TestingData.csv\n"
     ]
    },
    {
     "data": {
      "text/html": [
       "<div>\n",
       "<style scoped>\n",
       "    .dataframe tbody tr th:only-of-type {\n",
       "        vertical-align: middle;\n",
       "    }\n",
       "\n",
       "    .dataframe tbody tr th {\n",
       "        vertical-align: top;\n",
       "    }\n",
       "\n",
       "    .dataframe thead th {\n",
       "        text-align: right;\n",
       "    }\n",
       "</style>\n",
       "<table border=\"1\" class=\"dataframe\">\n",
       "  <thead>\n",
       "    <tr style=\"text-align: right;\">\n",
       "      <th></th>\n",
       "      <th>Account Name</th>\n",
       "      <th>Number of Likes</th>\n",
       "      <th>Post Date</th>\n",
       "      <th>Location</th>\n",
       "    </tr>\n",
       "  </thead>\n",
       "  <tbody>\n",
       "    <tr>\n",
       "      <th>0</th>\n",
       "      <td>asabopp</td>\n",
       "      <td>769196</td>\n",
       "      <td>01/27/21</td>\n",
       "      <td>Indoor</td>\n",
       "    </tr>\n",
       "    <tr>\n",
       "      <th>1</th>\n",
       "      <td>asabopp</td>\n",
       "      <td>410993</td>\n",
       "      <td>01/25/21</td>\n",
       "      <td>Outdoor</td>\n",
       "    </tr>\n",
       "    <tr>\n",
       "      <th>2</th>\n",
       "      <td>asabopp</td>\n",
       "      <td>703141</td>\n",
       "      <td>12/25/20</td>\n",
       "      <td>Indoor</td>\n",
       "    </tr>\n",
       "    <tr>\n",
       "      <th>3</th>\n",
       "      <td>asabopp</td>\n",
       "      <td>286131</td>\n",
       "      <td>11/28/20</td>\n",
       "      <td>Indoor</td>\n",
       "    </tr>\n",
       "    <tr>\n",
       "      <th>4</th>\n",
       "      <td>asabopp</td>\n",
       "      <td>657822</td>\n",
       "      <td>11/18/20</td>\n",
       "      <td>Indoor</td>\n",
       "    </tr>\n",
       "    <tr>\n",
       "      <th>5</th>\n",
       "      <td>asabopp</td>\n",
       "      <td>903377</td>\n",
       "      <td>10/27/20</td>\n",
       "      <td>Outdoor</td>\n",
       "    </tr>\n",
       "    <tr>\n",
       "      <th>6</th>\n",
       "      <td>asabopp</td>\n",
       "      <td>1145409</td>\n",
       "      <td>10/21/20</td>\n",
       "      <td>Indoor</td>\n",
       "    </tr>\n",
       "    <tr>\n",
       "      <th>7</th>\n",
       "      <td>asabopp</td>\n",
       "      <td>413292</td>\n",
       "      <td>08/16/20</td>\n",
       "      <td>Outdoor</td>\n",
       "    </tr>\n",
       "    <tr>\n",
       "      <th>8</th>\n",
       "      <td>asabopp</td>\n",
       "      <td>618042</td>\n",
       "      <td>08/14/20</td>\n",
       "      <td>Outdoor</td>\n",
       "    </tr>\n",
       "    <tr>\n",
       "      <th>9</th>\n",
       "      <td>asabopp</td>\n",
       "      <td>901484</td>\n",
       "      <td>08/07/20</td>\n",
       "      <td>Indoor</td>\n",
       "    </tr>\n",
       "  </tbody>\n",
       "</table>\n",
       "</div>"
      ],
      "text/plain": [
       "  Account Name  Number of Likes Post Date Location\n",
       "0      asabopp           769196  01/27/21   Indoor\n",
       "1      asabopp           410993  01/25/21  Outdoor\n",
       "2      asabopp           703141  12/25/20   Indoor\n",
       "3      asabopp           286131  11/28/20   Indoor\n",
       "4      asabopp           657822  11/18/20   Indoor\n",
       "5      asabopp           903377  10/27/20  Outdoor\n",
       "6      asabopp          1145409  10/21/20   Indoor\n",
       "7      asabopp           413292  08/16/20  Outdoor\n",
       "8      asabopp           618042  08/14/20  Outdoor\n",
       "9      asabopp           901484  08/07/20   Indoor"
      ]
     },
     "execution_count": 3,
     "metadata": {},
     "output_type": "execute_result"
    }
   ],
   "source": [
    "df = pd.read_csv(input(\"Please upload your file and type in it here to check your DataFrame sheet first!\\n\\n\"))\n",
    "##Here's a testing csv file: \n",
    "#COGS18_TestingData.csv\n",
    "\n",
    "##uncomment the next line for revealing the whole .csv file\n",
    "df"
   ]
  },
  {
   "cell_type": "code",
   "execution_count": 4,
   "metadata": {},
   "outputs": [],
   "source": [
    "## The following is the importing of my project: "
   ]
  },
  {
   "cell_type": "code",
   "execution_count": 5,
   "metadata": {},
   "outputs": [
    {
     "name": "stdout",
     "output_type": "stream",
     "text": [
      "Please re-type your file's name in the box:)\n",
      "\n",
      "COGS18_TestingData.csv\n",
      "Hi, Welcome to 'How active?', a data analyzing tool! :)\n",
      "\n"
     ]
    },
    {
     "data": {
      "text/plain": [
       "'Inactive side'"
      ]
     },
     "execution_count": 5,
     "metadata": {},
     "output_type": "execute_result"
    }
   ],
   "source": [
    "import my_module.functions\n",
    "my_module.functions.activate_and_intro()\n",
    "my_module.functions.how_active()\n",
    "my_module.functions.more_likes()\n",
    "##Here's a testing csv file: \n",
    "#COGS18_TestingData.csv"
   ]
  },
  {
   "cell_type": "code",
   "execution_count": 6,
   "metadata": {},
   "outputs": [
    {
     "data": {
      "text/plain": [
       "'Thank you so much!'"
      ]
     },
     "execution_count": 6,
     "metadata": {},
     "output_type": "execute_result"
    }
   ],
   "source": [
    "import my_module.classes\n",
    "my_module.classes.BestRegards(bye = \"Bye!\")\n",
    "my_module.classes.BestRegards(bye = \"Bye!\").thanks\n",
    "last_call = my_module.classes.BestRegards(bye = \"Bye!\")\n",
    "last_call.thanks"
   ]
  },
  {
   "cell_type": "code",
   "execution_count": 7,
   "metadata": {},
   "outputs": [],
   "source": [
    "#dir(my_module.classes)\n",
    "#dir(my_module.functions)"
   ]
  },
  {
   "cell_type": "code",
   "execution_count": null,
   "metadata": {},
   "outputs": [],
   "source": []
  },
  {
   "cell_type": "code",
   "execution_count": 8,
   "metadata": {},
   "outputs": [],
   "source": [
    "## Now let's check it!"
   ]
  },
  {
   "cell_type": "code",
   "execution_count": 9,
   "metadata": {},
   "outputs": [
    {
     "name": "stdout",
     "output_type": "stream",
     "text": [
      "Wish you a great Spring break!\n",
      "DataFrame status: good!\n",
      "\n",
      "Here is the status of the influencer: \n",
      "He/She is relatively Inactive side!\n",
      "\n",
      "Classes are also good!\n"
     ]
    }
   ],
   "source": [
    "import my_module.test_functions\n",
    "my_module.test_functions.test_get_file()\n",
    "my_module.test_functions.test_how_active()\n",
    "my_module.test_functions.test_class()"
   ]
  },
  {
   "cell_type": "code",
   "execution_count": null,
   "metadata": {},
   "outputs": [],
   "source": []
  },
  {
   "cell_type": "markdown",
   "metadata": {},
   "source": [
    "#### Extra Credit (*optional*)\n",
    "\n",
    "1. I have only taken two classes that are related to python, which are CSE 8A and COGS 18. However, it's my first time to use Numpy, Pandas and other SciPy skills that we learned in COGS18.\n",
    "2. I lost some points in E2, which shows that I have not fully command the skills in using classes. I put efforts in creating class this time. And also put a lot of efforts in importing data and doing Numpy & Pandas job. \n",
    "\n",
    "Thanks to COGS18 & the professor & TAs, I think I made a huge progress."
   ]
  },
  {
   "cell_type": "code",
   "execution_count": null,
   "metadata": {},
   "outputs": [],
   "source": []
  }
 ],
 "metadata": {
  "kernelspec": {
   "display_name": "Python 3",
   "language": "python",
   "name": "python3"
  },
  "language_info": {
   "codemirror_mode": {
    "name": "ipython",
    "version": 3
   },
   "file_extension": ".py",
   "mimetype": "text/x-python",
   "name": "python",
   "nbconvert_exporter": "python",
   "pygments_lexer": "ipython3",
   "version": "3.7.6"
  }
 },
 "nbformat": 4,
 "nbformat_minor": 2
}
